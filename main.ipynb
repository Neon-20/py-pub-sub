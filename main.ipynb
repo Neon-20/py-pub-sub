{
 "cells": [
  {
   "cell_type": "code",
   "execution_count": 3,
   "metadata": {},
   "outputs": [
    {
     "name": "stdout",
     "output_type": "stream",
     "text": [
      "User alice received notification from PranavTech: New video uploaded: Please check it out\n",
      "User john received notification from PranavTech: New video uploaded: Please check it out\n"
     ]
    }
   ],
   "source": [
    "class YoutubeChannel:\n",
    "    def __init__(self,name):\n",
    "        self.name = name\n",
    "        self.subscribers = []\n",
    "    def subscribe(self,sub):\n",
    "        self.subscribers.append(sub)\n",
    "    \n",
    "    # when an event occurs, we go through the subscribers and notify them.\n",
    "    def notify(self,event):\n",
    "        for sub in self.subscribers:\n",
    "            sub.sendNotifications(self.name,event)\n",
    "\n",
    "# We have to define a subscriber interface as well\n",
    "from abc import ABC, abstractmethod\n",
    "class YoutubeSubscriber(ABC):\n",
    "    @abstractmethod\n",
    "    def sendNotifications(self,event):\n",
    "        pass\n",
    "\n",
    "class YoutubeUser(YoutubeSubscriber):\n",
    "    def __init__(self,name):\n",
    "        self.name = name\n",
    "    def sendNotifications(self,channel, event):\n",
    "        print(f\"User {self.name} received notification from {channel}:{event}\")\n",
    "\n",
    "channel = YoutubeChannel(name = \"PranavTech\")\n",
    "\n",
    "# Create Youtube users\n",
    "user1 = YoutubeUser(name=\"alice\")\n",
    "user2 = YoutubeUser(name=\"john\")\n",
    "user3 = YoutubeUser(name=\"bob\")\n",
    "\n",
    "# Sub to the channel\n",
    "\n",
    "channel.subscribe(user1)\n",
    "channel.subscribe(user2)\n",
    "\n",
    "# Notify \n",
    "\n",
    "event_message = \" New video uploaded: Please check it out\"\n",
    "channel.notify(event_message)\n"
   ]
  }
 ],
 "metadata": {
  "kernelspec": {
   "display_name": "Python 3",
   "language": "python",
   "name": "python3"
  },
  "language_info": {
   "codemirror_mode": {
    "name": "ipython",
    "version": 3
   },
   "file_extension": ".py",
   "mimetype": "text/x-python",
   "name": "python",
   "nbconvert_exporter": "python",
   "pygments_lexer": "ipython3",
   "version": "3.10.11"
  }
 },
 "nbformat": 4,
 "nbformat_minor": 2
}
